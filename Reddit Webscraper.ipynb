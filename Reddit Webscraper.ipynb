{
 "cells": [
  {
   "cell_type": "markdown",
   "metadata": {},
   "source": [
    "# Project 3: Web APIs & Classification"
   ]
  },
  {
   "cell_type": "markdown",
   "metadata": {},
   "source": [
    "### *Reddit: Relationship and Break Up Thread Classifier*"
   ]
  },
  {
   "cell_type": "markdown",
   "metadata": {},
   "source": [
    "### 1. The Problem:\n",
    "Can reddit posts from Relationship and Break Up subbreddit threads be classified into their respective thread based on their title?\n"
   ]
  },
  {
   "cell_type": "markdown",
   "metadata": {},
   "source": [
    "### 2. Gather Data: Webscraping"
   ]
  },
  {
   "cell_type": "markdown",
   "metadata": {},
   "source": [
    "**Importing libraries**"
   ]
  },
  {
   "cell_type": "code",
   "execution_count": 1,
   "metadata": {
    "scrolled": true
   },
   "outputs": [],
   "source": [
    "from yellowbrick.text import FreqDistVisualizer\n",
    "from sklearn.feature_extraction.text import CountVectorizer"
   ]
  },
  {
   "cell_type": "code",
   "execution_count": 2,
   "metadata": {},
   "outputs": [],
   "source": [
    "import requests\n",
    "import time\n",
    "import pandas as pd"
   ]
  },
  {
   "cell_type": "markdown",
   "metadata": {},
   "source": [
    "**Importing & Inspecting URLs**"
   ]
  },
  {
   "cell_type": "code",
   "execution_count": 3,
   "metadata": {},
   "outputs": [],
   "source": [
    "url_rel = 'https://www.reddit.com/r/relationships.json'"
   ]
  },
  {
   "cell_type": "code",
   "execution_count": 4,
   "metadata": {},
   "outputs": [],
   "source": [
    "url_bre = 'https://www.reddit.com/r/BreakUps.json'"
   ]
  },
  {
   "cell_type": "code",
   "execution_count": 5,
   "metadata": {},
   "outputs": [],
   "source": [
    "headers = {'User-agent': 'Miabot'}"
   ]
  },
  {
   "cell_type": "code",
   "execution_count": 6,
   "metadata": {},
   "outputs": [],
   "source": [
    "res_rel = requests.get(url_rel, headers=headers)"
   ]
  },
  {
   "cell_type": "code",
   "execution_count": 7,
   "metadata": {},
   "outputs": [
    {
     "data": {
      "text/plain": [
       "200"
      ]
     },
     "execution_count": 7,
     "metadata": {},
     "output_type": "execute_result"
    }
   ],
   "source": [
    "res_rel.status_code"
   ]
  },
  {
   "cell_type": "code",
   "execution_count": 8,
   "metadata": {},
   "outputs": [],
   "source": [
    "res_bre = requests.get(url_bre, headers=headers)"
   ]
  },
  {
   "cell_type": "code",
   "execution_count": 9,
   "metadata": {},
   "outputs": [
    {
     "data": {
      "text/plain": [
       "200"
      ]
     },
     "execution_count": 9,
     "metadata": {},
     "output_type": "execute_result"
    }
   ],
   "source": [
    "res_bre.status_code"
   ]
  },
  {
   "cell_type": "code",
   "execution_count": 10,
   "metadata": {},
   "outputs": [],
   "source": [
    "rel_json = res_rel.json()"
   ]
  },
  {
   "cell_type": "code",
   "execution_count": 11,
   "metadata": {},
   "outputs": [
    {
     "data": {
      "text/plain": [
       "['data', 'kind']"
      ]
     },
     "execution_count": 11,
     "metadata": {},
     "output_type": "execute_result"
    }
   ],
   "source": [
    "sorted(rel_json.keys())"
   ]
  },
  {
   "cell_type": "code",
   "execution_count": 12,
   "metadata": {},
   "outputs": [
    {
     "data": {
      "text/plain": [
       "['after', 'before', 'children', 'dist', 'modhash']"
      ]
     },
     "execution_count": 12,
     "metadata": {},
     "output_type": "execute_result"
    }
   ],
   "source": [
    "sorted(rel_json['data'].keys())"
   ]
  },
  {
   "cell_type": "markdown",
   "metadata": {},
   "source": [
    "After is the ID of the last post in the list.  ID for the post is what the anchor needs to be when hit the API.  Children are the posts on the reddit page. "
   ]
  },
  {
   "cell_type": "code",
   "execution_count": 13,
   "metadata": {},
   "outputs": [
    {
     "data": {
      "text/plain": [
       "25"
      ]
     },
     "execution_count": 13,
     "metadata": {},
     "output_type": "execute_result"
    }
   ],
   "source": [
    "len(rel_json['data']['children'])"
   ]
  },
  {
   "cell_type": "code",
   "execution_count": 14,
   "metadata": {},
   "outputs": [],
   "source": [
    "bre_json = res_bre.json()"
   ]
  },
  {
   "cell_type": "code",
   "execution_count": 15,
   "metadata": {},
   "outputs": [
    {
     "data": {
      "text/plain": [
       "27"
      ]
     },
     "execution_count": 15,
     "metadata": {},
     "output_type": "execute_result"
    }
   ],
   "source": [
    "len(bre_json['data']['children'])"
   ]
  },
  {
   "cell_type": "code",
   "execution_count": 16,
   "metadata": {},
   "outputs": [
    {
     "data": {
      "text/plain": [
       "'t3_b9amcn'"
      ]
     },
     "execution_count": 16,
     "metadata": {},
     "output_type": "execute_result"
    }
   ],
   "source": [
    "bre_json['data']['after']"
   ]
  },
  {
   "cell_type": "code",
   "execution_count": 17,
   "metadata": {},
   "outputs": [],
   "source": [
    "param = {'after': 't3_b91y9a'}"
   ]
  },
  {
   "cell_type": "markdown",
   "metadata": {},
   "source": [
    "#### Webscraping"
   ]
  },
  {
   "cell_type": "markdown",
   "metadata": {},
   "source": [
    "I originally scraped 500 posts from each thread.  When I finished my model, I found there was a large gap between the train and test score.  I increased the scrape to approx. 1000 posts per thread.  This improved the score variance between the trian and test."
   ]
  },
  {
   "cell_type": "code",
   "execution_count": 18,
   "metadata": {},
   "outputs": [],
   "source": [
    "#from Riley youtube\n",
    "posts = []\n",
    "after = None\n",
    "for _ in range(40):\n",
    "    if after == None:\n",
    "        params = {}\n",
    "    else:\n",
    "        params = {'after': after}\n",
    "    url_rel = 'https://www.reddit.com/r/relationships.json'\n",
    "    res_rel = requests.get(url_rel, params=params, headers=headers)\n",
    "    rel_json = res_rel.json()\n",
    "    posts.extend(rel_json['data']['children'])\n",
    "    after = rel_json['data']['after']\n",
    "    time.sleep(1)"
   ]
  },
  {
   "cell_type": "code",
   "execution_count": 21,
   "metadata": {},
   "outputs": [],
   "source": [
    "titles = []\n",
    "for post in posts:\n",
    "    titles.append(post['data']['title'])"
   ]
  },
  {
   "cell_type": "code",
   "execution_count": 23,
   "metadata": {},
   "outputs": [],
   "source": [
    "#from Riley youtube\n",
    "posts2 = []\n",
    "after = None\n",
    "for _ in range(40):\n",
    "    if after == None:\n",
    "        params = {}\n",
    "    else:\n",
    "        params = {'after': after}\n",
    "    url_bre = 'https://www.reddit.com/r/BreakUps.json'\n",
    "    res_bre = requests.get(url_bre, params=params, headers=headers)\n",
    "    bre_json = res_bre.json()\n",
    "    posts2.extend(bre_json['data']['children'])\n",
    "    after = bre_json['data']['after']\n",
    "    time.sleep(1)"
   ]
  },
  {
   "cell_type": "code",
   "execution_count": 25,
   "metadata": {},
   "outputs": [],
   "source": [
    "titles2 = []\n",
    "for post2 in posts2:\n",
    "    titles2.append(post2['data']['title'])"
   ]
  },
  {
   "cell_type": "markdown",
   "metadata": {},
   "source": [
    "### 3. Explore Data: "
   ]
  },
  {
   "cell_type": "markdown",
   "metadata": {},
   "source": [
    "In exploring the scraped data I discovered that there were a lot of posts where the text was removed.  However, all the posts in both threads had very descriptive titles.  I decided to create my model using the titles from these threads.  The format of the titles seemed to vary between the two threads, so I thought this would increase the predictive ability of the model."
   ]
  },
  {
   "cell_type": "code",
   "execution_count": 36,
   "metadata": {
    "scrolled": true
   },
   "outputs": [
    {
     "data": {
      "text/plain": [
       "0    0.502006\n",
       "1    0.497994\n",
       "Name: subreddit, dtype: float64"
      ]
     },
     "execution_count": 36,
     "metadata": {},
     "output_type": "execute_result"
    }
   ],
   "source": [
    "df['subreddit'].value_counts(normalize=True)"
   ]
  },
  {
   "cell_type": "markdown",
   "metadata": {},
   "source": [
    "The classification models will not be biased to predict one class exclusively because the value counts are roughly even for both the positive class (r/breakups) and the negative class (r/relationships)."
   ]
  },
  {
   "cell_type": "code",
   "execution_count": 24,
   "metadata": {
    "scrolled": true
   },
   "outputs": [
    {
     "data": {
      "text/plain": [
       "{'kind': 't3',\n",
       " 'data': {'approved_at_utc': None,\n",
       "  'subreddit': 'BreakUps',\n",
       "  'selftext': '  \\n\\nWhen you pour yourself into a relationship, into someone, when you shower them with love and respect and support, when you give give give and receive only 1% back and don’t even mind, when you don’t listen to what anyone says because you KNOW what you feel and you don’t want to lose it, when you ignore all the red flags excusing them and finding reasons behind them…..\\n\\nYou lose the one you love.\\n\\nThey’ll take you for granted, they’ll lazily adjust to the presence of the love you give, they’ll slowly but surely stop working for it.\\n\\nAnd then they’ll leave.\\n\\nBecause at some point you’ll notice that they’re not involved anymore, they don’t give anymore, they just don’t SEE you anymore. And you’ll ask them why. And they won’t know why, they won’t even know why you’re asking all of a sudden, why are you so needy, so clingy, why? And you’ll blindly give more and more, naively hoping that some of it will come back. But it never does.\\n\\nAnd so they’ll leave.\\n\\nAnd you’ll find yourself broken, like the ground shattered underneath your feet and you’re just falling and falling, wondering what you did wrong, what you could have done different. You’ll hurt, and you’ll be in pain. \\n\\nBut after some time, one day you’ll find, without realizing, that the bleeding wound they left you with has disappeared, leaving nothing more than a dull ache. And then, you’ll feel nothing at all. You will be numb. And you’ll start to breathe again.\\n\\nThat’s the moment when they’ll come back. They’ll come back promising all you’ve ever hoped for, all they never gave, never did, all you ever wanted. Because in the time it took you to heal, they’ve realized they miss what you gave them. \\n\\nAnd so they’ll come back. And you’ll feel nothing at all. You’ll look them in the eye and realize they don’t affect you anymore. \\n\\nOn the contrary, you’ll see them and ask yourself “how could you treat someone who loved you like that? How can you look at them, see only love and affection in their eyes, and treat them like shit?”. And you’ll despise them. You’ll finally see them for the person they are, and you won’t like it.\\n\\nAnd you’ll have only one answer to their will to start over.\\n\\n&amp;#x200B;\\n\\n“Fuck you.”',\n",
       "  'author_fullname': 't2_1m650s2e',\n",
       "  'saved': False,\n",
       "  'mod_reason_title': None,\n",
       "  'gilded': 0,\n",
       "  'clicked': False,\n",
       "  'title': 'They always come back.',\n",
       "  'link_flair_richtext': [],\n",
       "  'subreddit_name_prefixed': 'r/BreakUps',\n",
       "  'hidden': False,\n",
       "  'pwls': 6,\n",
       "  'link_flair_css_class': None,\n",
       "  'downs': 0,\n",
       "  'parent_whitelist_status': 'all_ads',\n",
       "  'hide_score': False,\n",
       "  'name': 't3_b9aqih',\n",
       "  'quarantine': False,\n",
       "  'link_flair_text_color': 'dark',\n",
       "  'author_flair_background_color': None,\n",
       "  'subreddit_type': 'public',\n",
       "  'ups': 509,\n",
       "  'domain': 'self.BreakUps',\n",
       "  'media_embed': {},\n",
       "  'author_flair_template_id': None,\n",
       "  'is_original_content': False,\n",
       "  'user_reports': [],\n",
       "  'secure_media': None,\n",
       "  'is_reddit_media_domain': False,\n",
       "  'is_meta': False,\n",
       "  'category': None,\n",
       "  'secure_media_embed': {},\n",
       "  'link_flair_text': None,\n",
       "  'can_mod_post': False,\n",
       "  'score': 509,\n",
       "  'approved_by': None,\n",
       "  'thumbnail': '',\n",
       "  'edited': 1554373513.0,\n",
       "  'author_flair_css_class': None,\n",
       "  'author_flair_richtext': [],\n",
       "  'gildings': {'gid_1': 0, 'gid_2': 0, 'gid_3': 0},\n",
       "  'content_categories': None,\n",
       "  'is_self': True,\n",
       "  'mod_note': None,\n",
       "  'created': 1554371471.0,\n",
       "  'link_flair_type': 'text',\n",
       "  'wls': 6,\n",
       "  'banned_by': None,\n",
       "  'author_flair_type': 'text',\n",
       "  'contest_mode': False,\n",
       "  'selftext_html': '&lt;!-- SC_OFF --&gt;&lt;div class=\"md\"&gt;&lt;p&gt;When you pour yourself into a relationship, into someone, when you shower them with love and respect and support, when you give give give and receive only 1% back and don’t even mind, when you don’t listen to what anyone says because you KNOW what you feel and you don’t want to lose it, when you ignore all the red flags excusing them and finding reasons behind them…..&lt;/p&gt;\\n\\n&lt;p&gt;You lose the one you love.&lt;/p&gt;\\n\\n&lt;p&gt;They’ll take you for granted, they’ll lazily adjust to the presence of the love you give, they’ll slowly but surely stop working for it.&lt;/p&gt;\\n\\n&lt;p&gt;And then they’ll leave.&lt;/p&gt;\\n\\n&lt;p&gt;Because at some point you’ll notice that they’re not involved anymore, they don’t give anymore, they just don’t SEE you anymore. And you’ll ask them why. And they won’t know why, they won’t even know why you’re asking all of a sudden, why are you so needy, so clingy, why? And you’ll blindly give more and more, naively hoping that some of it will come back. But it never does.&lt;/p&gt;\\n\\n&lt;p&gt;And so they’ll leave.&lt;/p&gt;\\n\\n&lt;p&gt;And you’ll find yourself broken, like the ground shattered underneath your feet and you’re just falling and falling, wondering what you did wrong, what you could have done different. You’ll hurt, and you’ll be in pain. &lt;/p&gt;\\n\\n&lt;p&gt;But after some time, one day you’ll find, without realizing, that the bleeding wound they left you with has disappeared, leaving nothing more than a dull ache. And then, you’ll feel nothing at all. You will be numb. And you’ll start to breathe again.&lt;/p&gt;\\n\\n&lt;p&gt;That’s the moment when they’ll come back. They’ll come back promising all you’ve ever hoped for, all they never gave, never did, all you ever wanted. Because in the time it took you to heal, they’ve realized they miss what you gave them. &lt;/p&gt;\\n\\n&lt;p&gt;And so they’ll come back. And you’ll feel nothing at all. You’ll look them in the eye and realize they don’t affect you anymore. &lt;/p&gt;\\n\\n&lt;p&gt;On the contrary, you’ll see them and ask yourself “how could you treat someone who loved you like that? How can you look at them, see only love and affection in their eyes, and treat them like shit?”. And you’ll despise them. You’ll finally see them for the person they are, and you won’t like it.&lt;/p&gt;\\n\\n&lt;p&gt;And you’ll have only one answer to their will to start over.&lt;/p&gt;\\n\\n&lt;p&gt;&amp;#x200B;&lt;/p&gt;\\n\\n&lt;p&gt;“Fuck you.”&lt;/p&gt;\\n&lt;/div&gt;&lt;!-- SC_ON --&gt;',\n",
       "  'likes': None,\n",
       "  'suggested_sort': None,\n",
       "  'banned_at_utc': None,\n",
       "  'view_count': None,\n",
       "  'archived': False,\n",
       "  'no_follow': False,\n",
       "  'is_crosspostable': False,\n",
       "  'pinned': False,\n",
       "  'over_18': False,\n",
       "  'media_only': False,\n",
       "  'can_gild': False,\n",
       "  'spoiler': False,\n",
       "  'locked': False,\n",
       "  'author_flair_text': None,\n",
       "  'visited': False,\n",
       "  'num_reports': None,\n",
       "  'distinguished': None,\n",
       "  'subreddit_id': 't5_2ra79',\n",
       "  'mod_reason_by': None,\n",
       "  'removal_reason': None,\n",
       "  'link_flair_background_color': '',\n",
       "  'id': 'b9aqih',\n",
       "  'is_robot_indexable': True,\n",
       "  'report_reasons': None,\n",
       "  'author': 'LazyFreckles',\n",
       "  'num_crossposts': 1,\n",
       "  'num_comments': 93,\n",
       "  'send_replies': True,\n",
       "  'mod_reports': [],\n",
       "  'author_patreon_flair': False,\n",
       "  'author_flair_text_color': None,\n",
       "  'permalink': '/r/BreakUps/comments/b9aqih/they_always_come_back/',\n",
       "  'whitelist_status': 'all_ads',\n",
       "  'stickied': False,\n",
       "  'url': 'https://www.reddit.com/r/BreakUps/comments/b9aqih/they_always_come_back/',\n",
       "  'subreddit_subscribers': 84473,\n",
       "  'created_utc': 1554371471.0,\n",
       "  'media': None,\n",
       "  'is_video': False}}"
      ]
     },
     "execution_count": 24,
     "metadata": {},
     "output_type": "execute_result"
    }
   ],
   "source": [
    "posts2[2]"
   ]
  },
  {
   "cell_type": "markdown",
   "metadata": {},
   "source": [
    "#### Combining Both Scrapes into DataFrame"
   ]
  },
  {
   "cell_type": "code",
   "execution_count": 27,
   "metadata": {},
   "outputs": [],
   "source": [
    "reddit = pd.DataFrame(titles2, columns=['title'])"
   ]
  },
  {
   "cell_type": "code",
   "execution_count": 28,
   "metadata": {},
   "outputs": [],
   "source": [
    "reddit['subreddit'] = 0"
   ]
  },
  {
   "cell_type": "code",
   "execution_count": 29,
   "metadata": {},
   "outputs": [
    {
     "data": {
      "text/html": [
       "<div>\n",
       "<style scoped>\n",
       "    .dataframe tbody tr th:only-of-type {\n",
       "        vertical-align: middle;\n",
       "    }\n",
       "\n",
       "    .dataframe tbody tr th {\n",
       "        vertical-align: top;\n",
       "    }\n",
       "\n",
       "    .dataframe thead th {\n",
       "        text-align: right;\n",
       "    }\n",
       "</style>\n",
       "<table border=\"1\" class=\"dataframe\">\n",
       "  <thead>\n",
       "    <tr style=\"text-align: right;\">\n",
       "      <th></th>\n",
       "      <th>title</th>\n",
       "      <th>subreddit</th>\n",
       "    </tr>\n",
       "  </thead>\n",
       "  <tbody>\n",
       "    <tr>\n",
       "      <th>0</th>\n",
       "      <td>I've created a Discord for group chats.</td>\n",
       "      <td>0</td>\n",
       "    </tr>\n",
       "    <tr>\n",
       "      <th>1</th>\n",
       "      <td>Anyone else want anon group therapy to get ove...</td>\n",
       "      <td>0</td>\n",
       "    </tr>\n",
       "    <tr>\n",
       "      <th>2</th>\n",
       "      <td>They always come back.</td>\n",
       "      <td>0</td>\n",
       "    </tr>\n",
       "    <tr>\n",
       "      <th>3</th>\n",
       "      <td>They’re not worth your time or your worry</td>\n",
       "      <td>0</td>\n",
       "    </tr>\n",
       "    <tr>\n",
       "      <th>4</th>\n",
       "      <td>Seeing them on r/Breakups</td>\n",
       "      <td>0</td>\n",
       "    </tr>\n",
       "  </tbody>\n",
       "</table>\n",
       "</div>"
      ],
      "text/plain": [
       "                                               title  subreddit\n",
       "0            I've created a Discord for group chats.          0\n",
       "1  Anyone else want anon group therapy to get ove...          0\n",
       "2                             They always come back.          0\n",
       "3          They’re not worth your time or your worry          0\n",
       "4                          Seeing them on r/Breakups          0"
      ]
     },
     "execution_count": 29,
     "metadata": {},
     "output_type": "execute_result"
    }
   ],
   "source": [
    "reddit.head()"
   ]
  },
  {
   "cell_type": "code",
   "execution_count": 30,
   "metadata": {},
   "outputs": [],
   "source": [
    "reddit_bre = pd.DataFrame(titles, columns=['title'])"
   ]
  },
  {
   "cell_type": "code",
   "execution_count": 31,
   "metadata": {},
   "outputs": [],
   "source": [
    "reddit_bre['subreddit'] = 1"
   ]
  },
  {
   "cell_type": "code",
   "execution_count": 32,
   "metadata": {},
   "outputs": [
    {
     "data": {
      "text/html": [
       "<div>\n",
       "<style scoped>\n",
       "    .dataframe tbody tr th:only-of-type {\n",
       "        vertical-align: middle;\n",
       "    }\n",
       "\n",
       "    .dataframe tbody tr th {\n",
       "        vertical-align: top;\n",
       "    }\n",
       "\n",
       "    .dataframe thead th {\n",
       "        text-align: right;\n",
       "    }\n",
       "</style>\n",
       "<table border=\"1\" class=\"dataframe\">\n",
       "  <thead>\n",
       "    <tr style=\"text-align: right;\">\n",
       "      <th></th>\n",
       "      <th>title</th>\n",
       "      <th>subreddit</th>\n",
       "    </tr>\n",
       "  </thead>\n",
       "  <tbody>\n",
       "    <tr>\n",
       "      <th>0</th>\n",
       "      <td>My (27m) wife (25f, together 8 years, married ...</td>\n",
       "      <td>1</td>\n",
       "    </tr>\n",
       "    <tr>\n",
       "      <th>1</th>\n",
       "      <td>Bf is commanding on things I shouldn't do.</td>\n",
       "      <td>1</td>\n",
       "    </tr>\n",
       "    <tr>\n",
       "      <th>2</th>\n",
       "      <td>I [26F] don’t know how to handle my disrespect...</td>\n",
       "      <td>1</td>\n",
       "    </tr>\n",
       "    <tr>\n",
       "      <th>3</th>\n",
       "      <td>Am I in the wrong for saying my boyfriend need...</td>\n",
       "      <td>1</td>\n",
       "    </tr>\n",
       "    <tr>\n",
       "      <th>4</th>\n",
       "      <td>My (24F) parents (40F, 45M) expect my husband ...</td>\n",
       "      <td>1</td>\n",
       "    </tr>\n",
       "  </tbody>\n",
       "</table>\n",
       "</div>"
      ],
      "text/plain": [
       "                                               title  subreddit\n",
       "0  My (27m) wife (25f, together 8 years, married ...          1\n",
       "1         Bf is commanding on things I shouldn't do.          1\n",
       "2  I [26F] don’t know how to handle my disrespect...          1\n",
       "3  Am I in the wrong for saying my boyfriend need...          1\n",
       "4  My (24F) parents (40F, 45M) expect my husband ...          1"
      ]
     },
     "execution_count": 32,
     "metadata": {},
     "output_type": "execute_result"
    }
   ],
   "source": [
    "reddit_bre.head()"
   ]
  },
  {
   "cell_type": "code",
   "execution_count": 33,
   "metadata": {},
   "outputs": [],
   "source": [
    "df = pd.concat(objs=(reddit, reddit_bre), axis=0)"
   ]
  },
  {
   "cell_type": "code",
   "execution_count": 34,
   "metadata": {},
   "outputs": [
    {
     "data": {
      "text/html": [
       "<div>\n",
       "<style scoped>\n",
       "    .dataframe tbody tr th:only-of-type {\n",
       "        vertical-align: middle;\n",
       "    }\n",
       "\n",
       "    .dataframe tbody tr th {\n",
       "        vertical-align: top;\n",
       "    }\n",
       "\n",
       "    .dataframe thead th {\n",
       "        text-align: right;\n",
       "    }\n",
       "</style>\n",
       "<table border=\"1\" class=\"dataframe\">\n",
       "  <thead>\n",
       "    <tr style=\"text-align: right;\">\n",
       "      <th></th>\n",
       "      <th>title</th>\n",
       "      <th>subreddit</th>\n",
       "    </tr>\n",
       "  </thead>\n",
       "  <tbody>\n",
       "    <tr>\n",
       "      <th>0</th>\n",
       "      <td>I've created a Discord for group chats.</td>\n",
       "      <td>0</td>\n",
       "    </tr>\n",
       "    <tr>\n",
       "      <th>1</th>\n",
       "      <td>Anyone else want anon group therapy to get ove...</td>\n",
       "      <td>0</td>\n",
       "    </tr>\n",
       "    <tr>\n",
       "      <th>2</th>\n",
       "      <td>They always come back.</td>\n",
       "      <td>0</td>\n",
       "    </tr>\n",
       "    <tr>\n",
       "      <th>3</th>\n",
       "      <td>They’re not worth your time or your worry</td>\n",
       "      <td>0</td>\n",
       "    </tr>\n",
       "    <tr>\n",
       "      <th>4</th>\n",
       "      <td>Seeing them on r/Breakups</td>\n",
       "      <td>0</td>\n",
       "    </tr>\n",
       "  </tbody>\n",
       "</table>\n",
       "</div>"
      ],
      "text/plain": [
       "                                               title  subreddit\n",
       "0            I've created a Discord for group chats.          0\n",
       "1  Anyone else want anon group therapy to get ove...          0\n",
       "2                             They always come back.          0\n",
       "3          They’re not worth your time or your worry          0\n",
       "4                          Seeing them on r/Breakups          0"
      ]
     },
     "execution_count": 34,
     "metadata": {},
     "output_type": "execute_result"
    }
   ],
   "source": [
    "df.head()"
   ]
  },
  {
   "cell_type": "code",
   "execution_count": 35,
   "metadata": {},
   "outputs": [
    {
     "data": {
      "text/html": [
       "<div>\n",
       "<style scoped>\n",
       "    .dataframe tbody tr th:only-of-type {\n",
       "        vertical-align: middle;\n",
       "    }\n",
       "\n",
       "    .dataframe tbody tr th {\n",
       "        vertical-align: top;\n",
       "    }\n",
       "\n",
       "    .dataframe thead th {\n",
       "        text-align: right;\n",
       "    }\n",
       "</style>\n",
       "<table border=\"1\" class=\"dataframe\">\n",
       "  <thead>\n",
       "    <tr style=\"text-align: right;\">\n",
       "      <th></th>\n",
       "      <th>title</th>\n",
       "      <th>subreddit</th>\n",
       "    </tr>\n",
       "  </thead>\n",
       "  <tbody>\n",
       "    <tr>\n",
       "      <th>988</th>\n",
       "      <td>My (26f) SO (31m) acting strangly about runnin...</td>\n",
       "      <td>1</td>\n",
       "    </tr>\n",
       "    <tr>\n",
       "      <th>989</th>\n",
       "      <td>Sister(25) keeps going back to abusive boyfrie...</td>\n",
       "      <td>1</td>\n",
       "    </tr>\n",
       "    <tr>\n",
       "      <th>990</th>\n",
       "      <td>17f feels trapped in relationship with 20m</td>\n",
       "      <td>1</td>\n",
       "    </tr>\n",
       "    <tr>\n",
       "      <th>991</th>\n",
       "      <td>How do I [21 M] support and help my girlfriend...</td>\n",
       "      <td>1</td>\n",
       "    </tr>\n",
       "    <tr>\n",
       "      <th>992</th>\n",
       "      <td>Gf wants to go “on tour” with her escort frien...</td>\n",
       "      <td>1</td>\n",
       "    </tr>\n",
       "  </tbody>\n",
       "</table>\n",
       "</div>"
      ],
      "text/plain": [
       "                                                 title  subreddit\n",
       "988  My (26f) SO (31m) acting strangly about runnin...          1\n",
       "989  Sister(25) keeps going back to abusive boyfrie...          1\n",
       "990         17f feels trapped in relationship with 20m          1\n",
       "991  How do I [21 M] support and help my girlfriend...          1\n",
       "992  Gf wants to go “on tour” with her escort frien...          1"
      ]
     },
     "execution_count": 35,
     "metadata": {},
     "output_type": "execute_result"
    }
   ],
   "source": [
    "df.tail()"
   ]
  },
  {
   "cell_type": "markdown",
   "metadata": {},
   "source": [
    "### 4. Model with Data: "
   ]
  },
  {
   "cell_type": "markdown",
   "metadata": {},
   "source": [
    "### *Hashing Vectorizer + Multinomial Naive Bayes Model*"
   ]
  },
  {
   "cell_type": "markdown",
   "metadata": {},
   "source": [
    "I decided to start with a hashing vectorizer because although it is not as precise as a count vectorizer, it is fast with large amounts of data."
   ]
  },
  {
   "cell_type": "code",
   "execution_count": 37,
   "metadata": {},
   "outputs": [],
   "source": [
    "X = df[['title']]\n",
    "y = df['subreddit']"
   ]
  },
  {
   "cell_type": "code",
   "execution_count": 38,
   "metadata": {},
   "outputs": [
    {
     "name": "stdout",
     "output_type": "stream",
     "text": [
      "1994\n",
      "1994\n"
     ]
    }
   ],
   "source": [
    "print(len(X))\n",
    "print(len(y))"
   ]
  },
  {
   "cell_type": "code",
   "execution_count": 39,
   "metadata": {},
   "outputs": [],
   "source": [
    "from sklearn.model_selection import train_test_split\n",
    "\n",
    "X_train, X_test, y_train, y_test = train_test_split(X,\n",
    "                                                    y,\n",
    "                                                    test_size=0.25,\n",
    "                                                    random_state=42,\n",
    "                                                    stratify=y)"
   ]
  },
  {
   "cell_type": "code",
   "execution_count": 40,
   "metadata": {},
   "outputs": [],
   "source": [
    "from sklearn.feature_extraction.text import HashingVectorizer\n",
    "hv = HashingVectorizer(stop_words='english')"
   ]
  },
  {
   "cell_type": "code",
   "execution_count": 41,
   "metadata": {},
   "outputs": [],
   "source": [
    "X_train_hv = pd.DataFrame(hv.fit_transform(X_train['title']).todense())"
   ]
  },
  {
   "cell_type": "code",
   "execution_count": 42,
   "metadata": {},
   "outputs": [],
   "source": [
    "X_test_hv = pd.DataFrame(hv.transform(X_test['title']).todense())"
   ]
  },
  {
   "cell_type": "code",
   "execution_count": 43,
   "metadata": {},
   "outputs": [],
   "source": [
    "from sklearn.naive_bayes import MultinomialNB"
   ]
  },
  {
   "cell_type": "code",
   "execution_count": 44,
   "metadata": {},
   "outputs": [],
   "source": [
    "nb = MultinomialNB()"
   ]
  },
  {
   "cell_type": "code",
   "execution_count": 45,
   "metadata": {},
   "outputs": [],
   "source": [
    "model = nb.fit(X_train_hv, y_train)"
   ]
  },
  {
   "cell_type": "code",
   "execution_count": 46,
   "metadata": {},
   "outputs": [
    {
     "data": {
      "text/plain": [
       "0.5190635451505017"
      ]
     },
     "execution_count": 46,
     "metadata": {},
     "output_type": "execute_result"
    }
   ],
   "source": [
    "model.score(X_train_hv, y_train)"
   ]
  },
  {
   "cell_type": "markdown",
   "metadata": {},
   "source": [
    "The hashing vectorizer got a very low score on the train, so I decided to move straight to the count vectorizer.  "
   ]
  },
  {
   "cell_type": "markdown",
   "metadata": {},
   "source": [
    "### *Count Vectorizer + Multinomial Naive Bayes Model*"
   ]
  },
  {
   "cell_type": "markdown",
   "metadata": {},
   "source": [
    "I chose to try the count vectorizer because it is more precise.  Additionally, I will be able to determine which words were used in the model.  I decided to remove stopwords because they will be common in both subreddit scrapes, and will not improve the predictability of the model."
   ]
  },
  {
   "cell_type": "code",
   "execution_count": 47,
   "metadata": {},
   "outputs": [],
   "source": [
    "from nltk.corpus import stopwords"
   ]
  },
  {
   "cell_type": "code",
   "execution_count": 106,
   "metadata": {},
   "outputs": [],
   "source": [
    "mystopwords = stopwords.words('english')"
   ]
  },
  {
   "cell_type": "code",
   "execution_count": 49,
   "metadata": {},
   "outputs": [],
   "source": [
    "mystopwords.extend(['ex', 'don']) #see below for explanation of why these words were removed"
   ]
  },
  {
   "cell_type": "code",
   "execution_count": 107,
   "metadata": {},
   "outputs": [],
   "source": [
    "from sklearn.feature_extraction.text import CountVectorizer\n",
    "cv = CountVectorizer(stop_words=mystopwords, ngram_range=(1,1))"
   ]
  },
  {
   "cell_type": "code",
   "execution_count": 108,
   "metadata": {},
   "outputs": [],
   "source": [
    "X_train_cv = pd.DataFrame(cv.fit_transform(X_train['title']).todense(), columns=cv.get_feature_names())"
   ]
  },
  {
   "cell_type": "code",
   "execution_count": 109,
   "metadata": {},
   "outputs": [],
   "source": [
    "X_test_cv = pd.DataFrame(cv.transform(X_test['title']).todense(), columns=cv.get_feature_names())"
   ]
  },
  {
   "cell_type": "code",
   "execution_count": 89,
   "metadata": {},
   "outputs": [],
   "source": [
    "nb = MultinomialNB()"
   ]
  },
  {
   "cell_type": "code",
   "execution_count": 90,
   "metadata": {},
   "outputs": [],
   "source": [
    "model = nb.fit(X_train_cv, y_train)"
   ]
  },
  {
   "cell_type": "code",
   "execution_count": 91,
   "metadata": {},
   "outputs": [
    {
     "data": {
      "text/plain": [
       "0.939799331103679"
      ]
     },
     "execution_count": 91,
     "metadata": {},
     "output_type": "execute_result"
    }
   ],
   "source": [
    "model.score(X_train_cv, y_train)"
   ]
  },
  {
   "cell_type": "code",
   "execution_count": 92,
   "metadata": {},
   "outputs": [
    {
     "data": {
      "text/plain": [
       "0.9098196392785571"
      ]
     },
     "execution_count": 92,
     "metadata": {},
     "output_type": "execute_result"
    }
   ],
   "source": [
    "model.score(X_test_cv, y_test)"
   ]
  },
  {
   "cell_type": "markdown",
   "metadata": {},
   "source": [
    "The count vectorizer with a Multinomial naive bayes model performed well on both the train and test data.  I decided to save this webscrape because it provided me with strong results.  I tested on several different days with new webscrapes and all models performed about the same.  "
   ]
  },
  {
   "cell_type": "code",
   "execution_count": 93,
   "metadata": {},
   "outputs": [],
   "source": [
    "postcsv = pd.DataFrame(posts)"
   ]
  },
  {
   "cell_type": "code",
   "execution_count": 94,
   "metadata": {
    "scrolled": true
   },
   "outputs": [],
   "source": [
    "postcsv.to_csv('posts.csv', index=False)"
   ]
  },
  {
   "cell_type": "code",
   "execution_count": 95,
   "metadata": {},
   "outputs": [],
   "source": [
    "posts2csv = pd.DataFrame(posts2)"
   ]
  },
  {
   "cell_type": "code",
   "execution_count": 96,
   "metadata": {},
   "outputs": [],
   "source": [
    "posts2csv.to_csv('posts2.csv', index=False)"
   ]
  },
  {
   "cell_type": "markdown",
   "metadata": {},
   "source": [
    "The count vectorizer is not a black box like the hashing vectorizer.  The count vectorizer keeps count of the frequency distribution of the tokens.  I plotted this frequency below to see what words were predictive in each model, and to see if there was any overlap between the two models."
   ]
  },
  {
   "cell_type": "markdown",
   "metadata": {},
   "source": [
    "### r/Relationships Frequency Distribution of Top 50 Tokens"
   ]
  },
  {
   "cell_type": "code",
   "execution_count": 85,
   "metadata": {},
   "outputs": [
    {
     "data": {
      "image/png": "[encoded data removed]",
      "text/plain": [
       "<Figure size 1080x720 with 1 Axes>"
      ]
     },
     "metadata": {},
     "output_type": "display_data"
    }
   ],
   "source": [
    "#https://www.scikit-yb.org/en/latest/api/text/freqdist.html\n",
    "import matplotlib.pyplot as plt\n",
    "vectorizer = CountVectorizer(stop_words=mystopwords, ngram_range=(1,2))\n",
    "docs       = vectorizer.fit_transform(reddit['title'])\n",
    "features   = vectorizer.get_feature_names()\n",
    "\n",
    "plt.figure(figsize=(15,10))\n",
    "visualizer = FreqDistVisualizer(features=features)\n",
    "visualizer.fit(docs)\n",
    "visualizer.poof()"
   ]
  },
  {
   "cell_type": "markdown",
   "metadata": {},
   "source": [
    "### r/BreakUps Frequency Distribution of Top 50 Tokens"
   ]
  },
  {
   "cell_type": "code",
   "execution_count": 84,
   "metadata": {},
   "outputs": [
    {
     "data": {
      "image/png": "[encoded data removed]",
      "text/plain": [
       "<Figure size 864x864 with 1 Axes>"
      ]
     },
     "metadata": {},
     "output_type": "display_data"
    }
   ],
   "source": [
    "vectorizer = CountVectorizer(stop_words=mystopwords, ngram_range=(1,2))\n",
    "docs       = vectorizer.fit_transform(reddit_bre['title'])\n",
    "features   = vectorizer.get_feature_names()\n",
    "\n",
    "plt.figure(figsize=(12,12))\n",
    "visualizer = FreqDistVisualizer(features=features)\n",
    "visualizer.fit(docs)\n",
    "visualizer.poof()"
   ]
  },
  {
   "cell_type": "markdown",
   "metadata": {},
   "source": [
    "The two words that had very high token frequency in both threads were: 'ex' and 'don.'  I removed these words from my model because I thought they may be misclassifying the posts due to their high frequency in both threads.  My model improved 1% with the words removed."
   ]
  },
  {
   "cell_type": "markdown",
   "metadata": {},
   "source": [
    "Plotting the frequency distribution of the tokens allowed me to see that the format of the titles has an impact on the model.  The r/BreakUps thread uses mentions age and sex of the people being discussed.  For example, a 24 year old male would be called a 24m.  This is very frequent in the r/BreakUps thread, and thus is very predictive in the model."
   ]
  },
  {
   "cell_type": "markdown",
   "metadata": {},
   "source": [
    "### *Count Vectorizer + Logistic Regression*"
   ]
  },
  {
   "cell_type": "code",
   "execution_count": 114,
   "metadata": {},
   "outputs": [],
   "source": [
    "from sklearn.linear_model import LogisticRegression\n",
    "lr = LogisticRegression()"
   ]
  },
  {
   "cell_type": "code",
   "execution_count": 115,
   "metadata": {},
   "outputs": [
    {
     "name": "stderr",
     "output_type": "stream",
     "text": [
      "C:\\Users\\mia.martin\\AppData\\Local\\Continuum\\anaconda3\\envs\\dsi\\lib\\site-packages\\sklearn\\linear_model\\logistic.py:433: FutureWarning: Default solver will be changed to 'lbfgs' in 0.22. Specify a solver to silence this warning.\n",
      "  FutureWarning)\n"
     ]
    },
    {
     "data": {
      "text/plain": [
       "LogisticRegression(C=1.0, class_weight=None, dual=False, fit_intercept=True,\n",
       "          intercept_scaling=1, max_iter=100, multi_class='warn',\n",
       "          n_jobs=None, penalty='l2', random_state=None, solver='warn',\n",
       "          tol=0.0001, verbose=0, warm_start=False)"
      ]
     },
     "execution_count": 115,
     "metadata": {},
     "output_type": "execute_result"
    }
   ],
   "source": [
    "lr.fit(X_train_cv, y_train)"
   ]
  },
  {
   "cell_type": "code",
   "execution_count": 116,
   "metadata": {},
   "outputs": [
    {
     "data": {
      "text/plain": [
       "0.9705685618729097"
      ]
     },
     "execution_count": 116,
     "metadata": {},
     "output_type": "execute_result"
    }
   ],
   "source": [
    "lr.score(X_train_cv, y_train)"
   ]
  },
  {
   "cell_type": "code",
   "execution_count": 117,
   "metadata": {},
   "outputs": [
    {
     "data": {
      "text/plain": [
       "0.9158316633266533"
      ]
     },
     "execution_count": 117,
     "metadata": {},
     "output_type": "execute_result"
    }
   ],
   "source": [
    "lr.score(X_test_cv, y_test)"
   ]
  },
  {
   "cell_type": "markdown",
   "metadata": {},
   "source": [
    "The logistic regression did a better job of predicting the subreddit thread than the naive bayes model, so I will use the logistic regression in my model."
   ]
  },
  {
   "cell_type": "markdown",
   "metadata": {},
   "source": [
    "### *Count Vectorizer + Ridge Regression*"
   ]
  },
  {
   "cell_type": "markdown",
   "metadata": {},
   "source": [
    "I tried a ridge regression because some of the words in the model were predictive of both threads.  "
   ]
  },
  {
   "cell_type": "code",
   "execution_count": 110,
   "metadata": {},
   "outputs": [
    {
     "data": {
      "text/plain": [
       "RidgeCV(alphas=array([ 0.1,  1. , 10. ]), cv=None, fit_intercept=True,\n",
       "    gcv_mode=None, normalize=False, scoring=None, store_cv_values=False)"
      ]
     },
     "execution_count": 110,
     "metadata": {},
     "output_type": "execute_result"
    }
   ],
   "source": [
    "from sklearn.linear_model import LassoCV, RidgeCV, LinearRegression\n",
    "ridge = RidgeCV()\n",
    "ridge.fit(X_train_cv, y_train)"
   ]
  },
  {
   "cell_type": "code",
   "execution_count": 111,
   "metadata": {},
   "outputs": [
    {
     "data": {
      "text/plain": [
       "0.9318935795436548"
      ]
     },
     "execution_count": 111,
     "metadata": {},
     "output_type": "execute_result"
    }
   ],
   "source": [
    "ridge.score(X_train_cv, y_train)"
   ]
  },
  {
   "cell_type": "code",
   "execution_count": 112,
   "metadata": {
    "scrolled": true
   },
   "outputs": [
    {
     "data": {
      "text/plain": [
       "0.6804981865255555"
      ]
     },
     "execution_count": 112,
     "metadata": {},
     "output_type": "execute_result"
    }
   ],
   "source": [
    "ridge.score(X_test_cv, y_test)"
   ]
  },
  {
   "cell_type": "markdown",
   "metadata": {},
   "source": [
    "The ridge regression will penalize these features that are not improving the predictability of the model.  However, the ridge regression did not perform well on the test data, so I decided not to use the ridge in my final model."
   ]
  },
  {
   "cell_type": "markdown",
   "metadata": {},
   "source": [
    "### 4. Evaluate Model: "
   ]
  },
  {
   "cell_type": "markdown",
   "metadata": {},
   "source": [
    "The **hashing vectorizer** with a **Multinomial Naive Bayes model** performed the worst on the train data with 52% accuracy score on training data.  The hashing vectorizer has the benefit of being fast, but it is less precise.  \n",
    "\n",
    "The **count vectorizer** with a **Multinomial Naive Bayes model** performed much better with 94% on train data and 91% on test data.  \n",
    "\n",
    "The **count vectorizer** with a **Logistic Regression model** performed the best with 97% accuracy on training data and 92% on test data.  The logistic model with a count vectorizer performed the best because:\n",
    "1. The count vectorizer is more precise than the hashing vectorizer.\n",
    "2. The logistic model was better fit to this classification problem than the Naive Bayes model."
   ]
  },
  {
   "cell_type": "markdown",
   "metadata": {},
   "source": [
    "### 5. Answer Problem: "
   ]
  },
  {
   "cell_type": "markdown",
   "metadata": {},
   "source": [
    "Title can be used to predict classification of subreddit thread between r/Relationships and r/BreakUps with 92% accuracy, as shown in the logistic regression above using a count vectorizer.  "
   ]
  },
  {
   "cell_type": "markdown",
   "metadata": {},
   "source": [
    "The formatting of the titles has a large impact on the predictibility of the model.  Both threads discuss both relationships and break ups.  However, the r/BreakUps thread uses age and sex as identifiers in the title.  The r/Relationships thread includes more descriptive language in the title."
   ]
  },
  {
   "cell_type": "markdown",
   "metadata": {},
   "source": [
    "If I had more time and more data I would like to dive deeper into the predictive features in subreddit threads.  I think adding in the text of the thread would be a great feature to explore because it allows for more data (text is longer than title, therefore more content).  The data I scraped had too many removed posts with text removed, so I could not use text in this model.  I plan to scrape the data again at a later point to see if I can find more data without removed text.  "
   ]
  }
 ],
 "metadata": {
  "kernelspec": {
   "display_name": "Python 3",
   "language": "python",
   "name": "python3"
  },
  "language_info": {
   "codemirror_mode": {
    "name": "ipython",
    "version": 3
   },
   "file_extension": ".py",
   "mimetype": "text/x-python",
   "name": "python",
   "nbconvert_exporter": "python",
   "pygments_lexer": "ipython3",
   "version": "3.6.5"
  }
 },
 "nbformat": 4,
 "nbformat_minor": 2
}
